{
 "cells": [
  {
   "cell_type": "markdown",
   "metadata": {},
   "source": [
    "Wat het onderzoek zou moeten opleveren, denk ik:\n",
    "\n",
    "1. Twee (of vier) lijsten van meest gebruikte ‘linkse’ en ‘rechtse’ worden – gerankt\n",
    "2. Een lijst van favoriete woorden per partij: het ‘CDA-woord’, het ‘D66-woord’ etc.\n",
    "3. een lijst van ambigue woorden – populair bij links én rechts\n",
    "\n",
    "*De woorden van links*\n",
    "\n",
    "* Afbraak\n",
    "* Gelijkheid\n",
    "* Solidariteit\n",
    "* Samen\n",
    "* Collectief\n",
    "* Sociaal\n",
    "* Beschermen\n",
    "* Neoliberalisme\n",
    "* Amerikaanse toestanden\n",
    "* Tweedeling\n",
    "* Kloof\n",
    "* Ongelijkheid\n",
    "* Integreren/integratie\n",
    "* Preventie\n",
    "* Kansen (en ook kans?? Vragen)\n",
    "* Verbinding/-en\n",
    "* Perspectief\n",
    "* Eerlijk delen\n",
    "* Verheffen\n",
    "* Nivelleren\n",
    "\n",
    "\n",
    "*De woorden van rechts*\n",
    "\n",
    "* Vrijheid\n",
    "* Potverteren\n",
    "* Kleine overheid\n",
    "* Fatsoen\n",
    "* Belasting(en)\n",
    "* Ondernemen(d)/-ers\n",
    "* (Keihard) Aanpakken\n",
    "* Opsluiten\n",
    "* Achter slot en grendel\n",
    "* Joods-christelijke cultuur/Leitkultur/traditie\n",
    "* Islamisering\n",
    "* Daders\n",
    "* Veiligheid\n",
    "* Slachtoffer(s)\n",
    "* Individu\n",
    "* Eigen verantwoordelijkheid\n",
    "* Soeverein(iteit)\n",
    "* Normen en waarden/waarden en normen\n",
    "\n",
    "\n",
    "**Partijen**\n",
    "\n",
    "SP, PvdA, D66, GroenLinks, 50Plus, SGP, VVD, CU, PVV, PvdD.\n",
    "\n",
    "CU en ChristenUnie is hetzelfde, die kun je samenvoegen. (‘CU/SGP’ en ‘SGP/CU’ kun je buiten beschouwing laten)\n",
    "Groep Wilders en PVV idem.\n",
    "\n",
    "50Plus en 50Plus/Baay-Timmerman idem.\n",
    "\n",
    "\n",
    "*Sociaal-economisch links*\n",
    "\n",
    "* SP\n",
    "* GroenLinks\n",
    "* PvdA\n",
    "* PVV\n",
    "* ChristenUnie\n",
    "* Partij voor de Dieren\n",
    "* Denk (= groep Kuzu-Öztürk)\n",
    "\n",
    "*Sociaal-economisch rechts*\n",
    "\n",
    "* PVV\n",
    "* VVD\n",
    "* CDA\n",
    "* SGP\n",
    "* 50Plus\n",
    "\n",
    "*Sociaal-cultureel links*\n",
    "\n",
    "* SP\n",
    "* GroenLinks\n",
    "* PvdA\n",
    "* Partij voor de Dieren\n",
    "* D66\n",
    "\n",
    "*Sociaal-cultureel rechts*\n",
    "\n",
    "* PVV\n",
    "* ChristenUnie\n",
    "* VVD\n",
    "* CDA\n",
    "* SGP\n",
    "* 50Plus\n",
    "* Denk (= groep Kuzu-Öztürk)\n",
    "\n"
   ]
  },
  {
   "cell_type": "markdown",
   "metadata": {},
   "source": [
    "http://search.politicalmashup.nl/\n",
    "* 01-01-2006 - 01-01-2016\n",
    "* mp\n",
    "* commons\n",
    "\n",
    "\n",
    "\n",
    "Kleine overheid moeten we ff kijken of dat goed gaat "
   ]
  },
  {
   "cell_type": "code",
   "execution_count": 46,
   "metadata": {
    "collapsed": false,
    "scrolled": true
   },
   "outputs": [
    {
     "name": "stdout",
     "output_type": "stream",
     "text": [
      "{'50PLUS': {'gelijkheid': 1, 'perspectief': 27, 'individu': 2, 'samen': 46, 'potverteren': 1, 'sociaal': 53, 'ondernemen(d)-ers': 31, 'kansen': 22, 'eerlijk delen': 6, 'kloof': 7, 'soeverein(iteit)': 1, 'solidariteit': 7, 'integr(eren|atie)': 3, 'veiligheid': 37, 'verbinding(en)': 2, 'afbraak': 6, 'vrijheid': 11, 'ongelijkheid': 4, 'aanpakken': 24, 'tweedeling': 4, 'preventie': 15, 'collectief': 2, 'slachtoffer(s)': 12, 'leitkulturEtc': 1, 'eigen verantwoordelijkheid': 5, 'beschermen': 4, 'belasting(en)': 42}, 'D66': {'gelijkheid': 28, 'amerikaanse toestanden': 1, 'perspectief': 200, 'individu': 80, 'kleine overheid': 2, 'samen': 1282, 'potverteren': 2, 'sociaal': 378, 'ondernemen(d)-ers': 432, 'keihard aanpakken': 3, 'kansen': 439, 'eerlijk delen': 7, 'kloof': 18, 'soeverein(iteit)': 63, 'solidariteit': 87, 'integr(eren|atie)': 274, 'veiligheid': 701, 'verbinding(en)': 71, 'achter slot en grendel': 8, 'neoliberalisme': 4, 'vrijheid': 417, 'ongelijkheid': 47, 'aanpakken': 324, 'belasting(en)': 345, 'tweedeling': 32, 'nivelleren': 26, 'daders': 28, 'preventie': 107, 'collectief': 43, 'slachtoffer(s)': 198, 'opsluiten': 14, 'leitkulturEtc': 102, 'eigen verantwoordelijkheid': 80, 'afbraak': 4, 'beschermen': 153, 'verheffen': 11, 'fatsoen': 18, 'islamisering': 1}, 'CU': {'gelijkheid': 14, 'opsluiten': 4, 'perspectief': 224, 'individu': 12, 'kleine overheid': 1, 'samen': 624, 'sociaal': 200, 'ondernemen(d)-ers': 275, 'kansen': 155, 'eerlijk delen': 3, 'kloof': 37, 'soeverein(iteit)': 40, 'solidariteit': 63, 'integr(eren|atie)': 149, 'veiligheid': 439, 'verbinding(en)': 52, 'achter slot en grendel': 1, 'fatsoen': 10, 'vrijheid': 299, 'ongelijkheid': 28, 'aanpakken': 140, 'belasting(en)': 107, 'tweedeling': 14, 'nivelleren': 1, 'daders': 18, 'preventie': 117, 'collectief': 21, 'slachtoffer(s)': 175, 'leitkulturEtc': 62, 'eigen verantwoordelijkheid': 64, 'afbraak': 7, 'beschermen': 103, 'verheffen': 6, 'islamisering': 1}, 'PvdD': {'gelijkheid': 2, 'opsluiten': 8, 'perspectief': 28, 'afbraak': 5, 'individu': 5, 'kleine overheid': 1, 'samen': 163, 'potverteren': 1, 'sociaal': 26, 'ondernemen(d)-ers': 161, 'kansen': 73, 'eerlijk delen': 1, 'kloof': 11, 'soeverein(iteit)': 20, 'solidariteit': 28, 'integr(eren|atie)': 21, 'veiligheid': 157, 'verbinding(en)': 16, 'achter slot en grendel': 1, 'neoliberalisme': 1, 'vrijheid': 115, 'ongelijkheid': 2, 'aanpakken': 89, 'belasting(en)': 66, 'tweedeling': 1, 'daders': 8, 'preventie': 21, 'collectief': 8, 'slachtoffer(s)': 83, 'leitkulturEtc': 21, 'eigen verantwoordelijkheid': 28, 'fatsoen': 5, 'beschermen': 192, 'verheffen': 8, 'islamisering': 1}, 'CDA': {'gelijkheid': 15, 'amerikaanse toestanden': 2, 'perspectief': 415, 'individu': 39, 'kleine overheid': 3, 'samen': 1572, 'potverteren': 5, 'sociaal': 330, 'ondernemen(d)-ers': 716, 'keihard aanpakken': 5, 'kansen': 407, 'eerlijk delen': 8, 'kloof': 30, 'soeverein(iteit)': 28, 'solidariteit': 121, 'integr(eren|atie)': 342, 'veiligheid': 843, 'verbinding(en)': 103, 'achter slot en grendel': 3, 'neoliberalisme': 1, 'vrijheid': 385, 'ongelijkheid': 28, 'aanpakken': 407, 'belasting(en)': 509, 'tweedeling': 25, 'nivelleren': 39, 'daders': 58, 'preventie': 143, 'collectief': 54, 'slachtoffer(s)': 264, 'opsluiten': 10, 'leitkulturEtc': 81, 'eigen verantwoordelijkheid': 150, 'afbraak': 5, 'beschermen': 173, 'verheffen': 7, 'fatsoen': 23, 'islamisering': 4}, 'PvdA': {'gelijkheid': 34, 'amerikaanse toestanden': 6, 'perspectief': 386, 'individu': 57, 'samen': 1806, 'potverteren': 3, 'sociaal': 609, 'ondernemen(d)-ers': 570, 'keihard aanpakken': 7, 'kansen': 507, 'eerlijk delen': 55, 'kloof': 39, 'soeverein(iteit)': 45, 'solidariteit': 195, 'integr(eren|atie)': 399, 'veiligheid': 950, 'verbinding(en)': 131, 'achter slot en grendel': 3, 'neoliberalisme': 7, 'vrijheid': 522, 'ongelijkheid': 35, 'aanpakken': 500, 'belasting(en)': 413, 'tweedeling': 31, 'nivelleren': 10, 'daders': 94, 'preventie': 241, 'collectief': 76, 'slachtoffer(s)': 425, 'opsluiten': 32, 'leitkulturEtc': 93, 'eigen verantwoordelijkheid': 130, 'afbraak': 12, 'beschermen': 269, 'verheffen': 14, 'fatsoen': 28, 'islamisering': 8}, 'GroenLinks': {'gelijkheid': 15, 'amerikaanse toestanden': 3, 'perspectief': 267, 'individu': 45, 'kleine overheid': 6, 'samen': 887, 'potverteren': 6, 'sociaal': 376, 'ondernemen(d)-ers': 358, 'keihard aanpakken': 9, 'kansen': 273, 'eerlijk delen': 56, 'kloof': 40, 'soeverein(iteit)': 48, 'solidariteit': 115, 'integr(eren|atie)': 290, 'veiligheid': 510, 'verbinding(en)': 54, 'achter slot en grendel': 3, 'neoliberalisme': 5, 'vrijheid': 362, 'ongelijkheid': 40, 'aanpakken': 296, 'belasting(en)': 377, 'tweedeling': 25, 'nivelleren': 29, 'daders': 43, 'preventie': 87, 'collectief': 42, 'slachtoffer(s)': 235, 'opsluiten': 14, 'leitkulturEtc': 81, 'eigen verantwoordelijkheid': 90, 'afbraak': 9, 'beschermen': 176, 'verheffen': 15, 'fatsoen': 15, 'islamisering': 22}, 'SGP': {'gelijkheid': 14, 'opsluiten': 2, 'perspectief': 205, 'individu': 12, 'kleine overheid': 2, 'samen': 313, 'potverteren': 2, 'sociaal': 96, 'ondernemen(d)-ers': 146, 'kansen': 114, 'kloof': 44, 'soeverein(iteit)': 22, 'solidariteit': 20, 'integr(eren|atie)': 106, 'veiligheid': 233, 'verbinding(en)': 27, 'achter slot en grendel': 5, 'fatsoen': 4, 'vrijheid': 262, 'ongelijkheid': 22, 'aanpakken': 82, 'belasting(en)': 136, 'tweedeling': 4, 'nivelleren': 3, 'daders': 17, 'preventie': 42, 'collectief': 9, 'slachtoffer(s)': 66, 'leitkulturEtc': 99, 'eigen verantwoordelijkheid': 72, 'afbraak': 5, 'beschermen': 43, 'verheffen': 3, 'islamisering': 7}, 'SP': {'gelijkheid': 23, 'amerikaanse toestanden': 4, 'perspectief': 228, 'individu': 48, 'kleine overheid': 2, 'samen': 1388, 'potverteren': 2, 'sociaal': 599, 'ondernemen(d)-ers': 503, 'keihard aanpakken': 3, 'kansen': 239, 'eerlijk delen': 53, 'kloof': 76, 'soeverein(iteit)': 88, 'solidariteit': 253, 'integr(eren|atie)': 422, 'veiligheid': 952, 'verbinding(en)': 69, 'achter slot en grendel': 1, 'neoliberalisme': 40, 'vrijheid': 461, 'ongelijkheid': 86, 'aanpakken': 498, 'belasting(en)': 643, 'tweedeling': 146, 'nivelleren': 5, 'daders': 55, 'preventie': 111, 'collectief': 98, 'slachtoffer(s)': 383, 'opsluiten': 34, 'leitkulturEtc': 67, 'eigen verantwoordelijkheid': 128, 'afbraak': 95, 'beschermen': 254, 'verheffen': 7, 'fatsoen': 45, 'islamisering': 5}, 'PVV': {'gelijkheid': 46, 'amerikaanse toestanden': 1, 'perspectief': 86, 'individu': 26, 'kleine overheid': 1, 'samen': 536, 'potverteren': 3, 'sociaal': 167, 'ondernemen(d)-ers': 322, 'keihard aanpakken': 17, 'kansen': 88, 'eerlijk delen': 5, 'kloof': 45, 'soeverein(iteit)': 147, 'solidariteit': 71, 'integr(eren|atie)': 267, 'veiligheid': 662, 'verbinding(en)': 32, 'achter slot en grendel': 10, 'neoliberalisme': 1, 'vrijheid': 808, 'ongelijkheid': 26, 'aanpakken': 304, 'belasting(en)': 561, 'tweedeling': 12, 'nivelleren': 31, 'daders': 172, 'preventie': 49, 'collectief': 15, 'slachtoffer(s)': 366, 'opsluiten': 26, 'leitkulturEtc': 65, 'eigen verantwoordelijkheid': 81, 'afbraak': 38, 'beschermen': 196, 'verheffen': 7, 'fatsoen': 42, 'islamisering': 177}, 'VVD': {'gelijkheid': 26, 'amerikaanse toestanden': 5, 'perspectief': 293, 'individu': 92, 'kleine overheid': 25, 'samen': 1222, 'potverteren': 16, 'sociaal': 340, 'ondernemen(d)-ers': 1104, 'keihard aanpakken': 6, 'kansen': 328, 'eerlijk delen': 2, 'kloof': 20, 'soeverein(iteit)': 64, 'solidariteit': 112, 'integr(eren|atie)': 387, 'veiligheid': 941, 'verbinding(en)': 65, 'achter slot en grendel': 5, 'afbraak': 10, 'vrijheid': 702, 'ongelijkheid': 35, 'aanpakken': 399, 'belasting(en)': 511, 'tweedeling': 19, 'nivelleren': 14, 'daders': 81, 'preventie': 80, 'collectief': 71, 'slachtoffer(s)': 401, 'opsluiten': 18, 'leitkulturEtc': 86, 'eigen verantwoordelijkheid': 189, 'fatsoen': 16, 'beschermen': 184, 'verheffen': 10}}\n",
      "{'gelijkheid': 30, 'amerikaanse toestanden': 14, 'perspectief': 2224, 'individu': 291, 'kleine overheid': 2, 'samen': 9239, 'potverteren': 18, 'sociaal': 2897, 'ondernemen(d)-ers': 4448, 'keihard aanpakken': 30, 'kansen': 2509, 'eerlijk delen': 113, 'kloof': 162, 'soeverein(iteit)': 412, 'solidariteit': 955, 'integr(eren|atie)': 1135, 'veiligheid': 6327, 'verbinding(en)': 174, 'achter slot en grendel': 5, 'neoliberalisme': 1, 'vrijheid': 3667, 'ongelijkheid': 146, 'aanpakken': 2849, 'belasting(en)': 3579, 'tweedeling': 207, 'nivelleren': 73, 'daders': 476, 'preventie': 919, 'collectief': 259, 'slachtoffer(s)': 1848, 'opsluiten': 96, 'leitkulturEtc': 688, 'eigen verantwoordelijkheid': 840, 'afbraak': 125, 'beschermen': 1665, 'verheffen': 46, 'fatsoen': 128, 'islamisering': 142}\n"
     ]
    }
   ],
   "source": [
    "import csv\n",
    "import re\n",
    "\n",
    "# global parties\n",
    "parties = {\"SP\": {}, \"PvdA\": {}, \"D66\": {}, \"GroenLinks\": {}, \"50PLUS\": {}, \"SGP\": {}, \"VVD\": {}, \"CU\": {}, \"PVV\": {}, \"PvdD\": {}, \"CDA\": {}}\n",
    "words = {}\n",
    "\n",
    "# Telt momenteel in hoeveel speeches het woord gezegd wordt\n",
    "def getData(word):\n",
    "    # Get the amount of speeches the word is used in from a csv file\n",
    "    with open(word + \".csv\") as csvfile:\n",
    "        reader = csv.DictReader(csvfile)\n",
    "        for row in reader:\n",
    "            # Correct party name if necessary\n",
    "            # Some parties start with EP/, remove that\n",
    "            party = re.sub('EP/', '', row[\"party\"])\n",
    "            # CU and ChristenUnie are the same\n",
    "            if party == \"ChristenUnie\":\n",
    "                party = \"CU\"\n",
    "            # Groep Wilders is same as PVV\n",
    "            elif party == \"Groep Wilders\":\n",
    "                party = \"PVV\"\n",
    "            # 50Plus/Baay-Timmerman is same as 50Plus\n",
    "            elif party == \"50PLUS/Baay-Timmerman\":\n",
    "                party = \"50PLUS\"\n",
    "            # Only use the defined parties\n",
    "            if party in parties:\n",
    "                if word in parties[party]:\n",
    "                    parties[party][word] += 1\n",
    "                    words[word] += 1\n",
    "                else:\n",
    "                    # New word\n",
    "                    parties[party][word] = 1\n",
    "                    words[word] = 1\n",
    "#             else:\n",
    "#                 # New party\n",
    "#                 newWord = {word: 1}\n",
    "#                 parties[party] = newWord\n",
    "            \n",
    "# TODO sommige woorden combinerend zoeken?\n",
    "allLeftWords = ['afbraak', 'gelijkheid', 'solidariteit', 'samen', 'collectief', 'sociaal', 'beschermen', \n",
    "                 'neoliberalisme', 'amerikaanse toestanden', 'tweedeling', 'kloof', 'ongelijkheid', \n",
    "                 'integr(eren|atie)', 'preventie', 'kansen', 'verbinding(en)', 'perspectief', \n",
    "                 'eerlijk delen', 'verheffen', 'nivelleren']\n",
    "allRightWords = ['vrijheid', 'potverteren', 'kleine overheid', 'fatsoen', 'belasting(en)', 'ondernemen(d)-ers', \n",
    "                 'keihard aanpakken', 'aanpakken', 'opsluiten', 'achter slot en grendel', 'leitkulturEtc', \n",
    "                 'islamisering', 'daders', 'veiligheid', 'slachtoffer(s)', 'individu', 'eigen verantwoordelijkheid',\n",
    "                 'soeverein(iteit)']\n",
    "\n",
    "for leftWord in allLeftWords:\n",
    "    getData(leftWord)\n",
    "for rightWord in allRightWords:\n",
    "    getData(rightWord)\n",
    "# getData('afbraak')\n",
    "# getData('gelijkheid')\n",
    "# getData('vrijheid')\n",
    "print(parties)\n",
    "print(words)\n"
   ]
  },
  {
   "cell_type": "code",
   "execution_count": 47,
   "metadata": {
    "collapsed": false
   },
   "outputs": [
    {
     "name": "stdout",
     "output_type": "stream",
     "text": [
      "{'perspectief': 2224, 'individu': 291, 'islamisering': 142, 'sociaal': 2897, 'ondernemen(d)-ers': 4448, 'kansen': 2509, 'eerlijk delen': 113, 'kloof': 162, 'soeverein(iteit)': 412, 'solidariteit': 955, 'belasting(en)': 3579, 'veiligheid': 6327, 'verbinding(en)': 174, 'fatsoen': 128, 'vrijheid': 3667, 'ongelijkheid': 146, 'aanpakken': 2849, 'tweedeling': 207, 'daders': 476, 'preventie': 919, 'collectief': 259, 'slachtoffer(s)': 1848, 'leitkulturEtc': 688, 'eigen verantwoordelijkheid': 840, 'afbraak': 125, 'beschermen': 1665, 'integr(eren|atie)': 1135, 'samen': 9239}\n"
     ]
    }
   ],
   "source": [
    "import operator\n",
    "\n",
    "# Sort words in ascending order\n",
    "sorted_words = sorted(words.items(), key=operator.itemgetter(1))\n",
    "\n",
    "# Keep only the words that appear more than the threshold\n",
    "threshold = 100\n",
    "sorted_words = [word for word in sorted_words if word[1] > threshold] \n",
    "\n",
    "# Create a dict of those words again\n",
    "sorted_words = dict(sorted_words) \n",
    "\n",
    "print(sorted_words)\n",
    "\n"
   ]
  },
  {
   "cell_type": "code",
   "execution_count": 48,
   "metadata": {
    "collapsed": false
   },
   "outputs": [],
   "source": [
    "import matplotlib.pyplot as plt\n",
    "import numpy as np\n",
    "\n",
    "def makeGraph(words, counts, allColors, allParties, wordSort):\n",
    "    fig, ax = plt.subplots()\n",
    "    n_groups = len(allParties)\n",
    "    index = np.arange(len(words))\n",
    "    bar_width = 1.0/(n_groups + 2)\n",
    "    opacity = 0.8 \n",
    "    \n",
    "    for i in range(len(allParties)):\n",
    "        plt.bar(index + bar_width*i, counts[i], bar_width, alpha=opacity, color=allColors[i], \n",
    "                label=allParties[i])\n",
    "        \n",
    "    plt.xlabel('Woord')\n",
    "    plt.ylabel('Aantal keer genoemd')\n",
    "    plt.title('Aantal keer dat ' + wordSort + ' woorden zijn genoemd over de periode 2006-2016 per partij')\n",
    "    plt.xticks(index + 0.75, words)\n",
    "    plt.legend()\n",
    "    plt.tight_layout()\n",
    "    plt.show()\n",
    "\n",
    "def calculateCountsParty(parties, words):\n",
    "    allParties = list(parties.keys())\n",
    "    allCounts = []\n",
    "    for party in allParties:\n",
    "        counts = []\n",
    "        partyDict = parties[party]\n",
    "        for word in words:\n",
    "            if word in partyDict.keys():\n",
    "                counts.append(partyDict[word])\n",
    "            else:\n",
    "                counts.append(0)\n",
    "        allCounts.append(tuple(counts))\n",
    "    return allCounts\n",
    "    "
   ]
  },
  {
   "cell_type": "code",
   "execution_count": 49,
   "metadata": {
    "collapsed": false
   },
   "outputs": [
    {
     "name": "stdout",
     "output_type": "stream",
     "text": [
      "['afbraak', 'solidariteit', 'samen', 'collectief', 'sociaal', 'beschermen', 'tweedeling', 'kloof', 'ongelijkheid', 'integr(eren|atie)', 'preventie', 'kansen', 'verbinding(en)', 'perspectief', 'eerlijk delen']\n"
     ]
    }
   ],
   "source": [
    "# Get all words that occur in the thresholded sorted list\n",
    "def getUsedWords(words, sorted_words):\n",
    "    return [word for word in words if word in sorted_words]\n",
    "\n",
    "print(getUsedWords(allLeftWords, sorted_words))\n",
    "    "
   ]
  },
  {
   "cell_type": "code",
   "execution_count": 55,
   "metadata": {
    "collapsed": false
   },
   "outputs": [],
   "source": [
    "import matplotlib.colors as colors\n",
    "\n",
    "allColors = list(colors.cnames.keys())\n",
    "allUsedLeftWords = getUsedWords(allLeftWords, sorted_words)\n",
    "counts = calculateCountsParty(parties, allUsedLeftWords)\n",
    "makeGraph(allUsedLeftWords, counts, allColors, list(parties.keys()), 'linkse')"
   ]
  },
  {
   "cell_type": "code",
   "execution_count": 33,
   "metadata": {
    "collapsed": false
   },
   "outputs": [],
   "source": [
    "allUsedRightWords = getUsedWords(allRightWords, sorted_words)\n",
    "counts = calculateCountsParty(parties, allUsedRightWords)\n",
    "makeGraph(allUsedRightWords, counts, allColors, list(parties.keys()), 'rechtse')"
   ]
  },
  {
   "cell_type": "code",
   "execution_count": 51,
   "metadata": {
    "collapsed": false
   },
   "outputs": [
    {
     "name": "stdout",
     "output_type": "stream",
     "text": [
      "{'PvdD': 'beschermen', 'VVD': 'samen', 'CDA': 'samen', 'PvdA': 'samen', 'GroenLinks': 'samen', 'SGP': 'samen', 'SP': 'samen', 'PVV': 'vrijheid', '50PLUS': 'sociaal', 'D66': 'samen', 'CU': 'samen'}\n"
     ]
    }
   ],
   "source": [
    "# Een lijst van favoriete woorden per partij: het ‘CDA-woord’, het ‘D66-woord’ etc.\n",
    "top_word_per_party = {}\n",
    "for party in parties.keys():\n",
    "    top_word_per_party[party] = max(parties[party].iteritems(), key=operator.itemgetter(1))[0]\n",
    "    \n",
    "print(top_word_per_party)"
   ]
  },
  {
   "cell_type": "code",
   "execution_count": 53,
   "metadata": {
    "collapsed": false
   },
   "outputs": [
    {
     "ename": "ValueError",
     "evalue": "If using all scalar values, you must pass an index",
     "output_type": "error",
     "traceback": [
      "\u001b[0;31m---------------------------------------\u001b[0m",
      "\u001b[0;31mValueError\u001b[0mTraceback (most recent call last)",
      "\u001b[0;32m<ipython-input-53-25b05904ddef>\u001b[0m in \u001b[0;36m<module>\u001b[0;34m()\u001b[0m\n\u001b[1;32m      1\u001b[0m \u001b[0;32mimport\u001b[0m \u001b[0mpandas\u001b[0m \u001b[0;32mas\u001b[0m \u001b[0mpd\u001b[0m\u001b[0;34m\u001b[0m\u001b[0m\n\u001b[1;32m      2\u001b[0m \u001b[0;34m\u001b[0m\u001b[0m\n\u001b[0;32m----> 3\u001b[0;31m \u001b[0mpd\u001b[0m\u001b[0;34m.\u001b[0m\u001b[0mDataFrame\u001b[0m\u001b[0;34m.\u001b[0m\u001b[0mfrom_dict\u001b[0m\u001b[0;34m(\u001b[0m\u001b[0mtop_word_per_party\u001b[0m\u001b[0;34m)\u001b[0m\u001b[0;34m\u001b[0m\u001b[0m\n\u001b[0m",
      "\u001b[0;32m/usr/local/lib/python2.7/dist-packages/pandas/core/frame.pyc\u001b[0m in \u001b[0;36mfrom_dict\u001b[0;34m(cls, data, orient, dtype)\u001b[0m\n\u001b[1;32m    802\u001b[0m             \u001b[0;32mraise\u001b[0m \u001b[0mValueError\u001b[0m\u001b[0;34m(\u001b[0m\u001b[0;34m'only recognize index or columns for orient'\u001b[0m\u001b[0;34m)\u001b[0m\u001b[0;34m\u001b[0m\u001b[0m\n\u001b[1;32m    803\u001b[0m \u001b[0;34m\u001b[0m\u001b[0m\n\u001b[0;32m--> 804\u001b[0;31m         \u001b[0;32mreturn\u001b[0m \u001b[0mcls\u001b[0m\u001b[0;34m(\u001b[0m\u001b[0mdata\u001b[0m\u001b[0;34m,\u001b[0m \u001b[0mindex\u001b[0m\u001b[0;34m=\u001b[0m\u001b[0mindex\u001b[0m\u001b[0;34m,\u001b[0m \u001b[0mcolumns\u001b[0m\u001b[0;34m=\u001b[0m\u001b[0mcolumns\u001b[0m\u001b[0;34m,\u001b[0m \u001b[0mdtype\u001b[0m\u001b[0;34m=\u001b[0m\u001b[0mdtype\u001b[0m\u001b[0;34m)\u001b[0m\u001b[0;34m\u001b[0m\u001b[0m\n\u001b[0m\u001b[1;32m    805\u001b[0m \u001b[0;34m\u001b[0m\u001b[0m\n\u001b[1;32m    806\u001b[0m     \u001b[0;34m@\u001b[0m\u001b[0mdeprecate_kwarg\u001b[0m\u001b[0;34m(\u001b[0m\u001b[0mold_arg_name\u001b[0m\u001b[0;34m=\u001b[0m\u001b[0;34m'outtype'\u001b[0m\u001b[0;34m,\u001b[0m \u001b[0mnew_arg_name\u001b[0m\u001b[0;34m=\u001b[0m\u001b[0;34m'orient'\u001b[0m\u001b[0;34m)\u001b[0m\u001b[0;34m\u001b[0m\u001b[0m\n",
      "\u001b[0;32m/usr/local/lib/python2.7/dist-packages/pandas/core/frame.pyc\u001b[0m in \u001b[0;36m__init__\u001b[0;34m(self, data, index, columns, dtype, copy)\u001b[0m\n\u001b[1;32m    224\u001b[0m                                  dtype=dtype, copy=copy)\n\u001b[1;32m    225\u001b[0m         \u001b[0;32melif\u001b[0m \u001b[0misinstance\u001b[0m\u001b[0;34m(\u001b[0m\u001b[0mdata\u001b[0m\u001b[0;34m,\u001b[0m \u001b[0mdict\u001b[0m\u001b[0;34m)\u001b[0m\u001b[0;34m:\u001b[0m\u001b[0;34m\u001b[0m\u001b[0m\n\u001b[0;32m--> 226\u001b[0;31m             \u001b[0mmgr\u001b[0m \u001b[0;34m=\u001b[0m \u001b[0mself\u001b[0m\u001b[0;34m.\u001b[0m\u001b[0m_init_dict\u001b[0m\u001b[0;34m(\u001b[0m\u001b[0mdata\u001b[0m\u001b[0;34m,\u001b[0m \u001b[0mindex\u001b[0m\u001b[0;34m,\u001b[0m \u001b[0mcolumns\u001b[0m\u001b[0;34m,\u001b[0m \u001b[0mdtype\u001b[0m\u001b[0;34m=\u001b[0m\u001b[0mdtype\u001b[0m\u001b[0;34m)\u001b[0m\u001b[0;34m\u001b[0m\u001b[0m\n\u001b[0m\u001b[1;32m    227\u001b[0m         \u001b[0;32melif\u001b[0m \u001b[0misinstance\u001b[0m\u001b[0;34m(\u001b[0m\u001b[0mdata\u001b[0m\u001b[0;34m,\u001b[0m \u001b[0mma\u001b[0m\u001b[0;34m.\u001b[0m\u001b[0mMaskedArray\u001b[0m\u001b[0;34m)\u001b[0m\u001b[0;34m:\u001b[0m\u001b[0;34m\u001b[0m\u001b[0m\n\u001b[1;32m    228\u001b[0m             \u001b[0;32mimport\u001b[0m \u001b[0mnumpy\u001b[0m\u001b[0;34m.\u001b[0m\u001b[0mma\u001b[0m\u001b[0;34m.\u001b[0m\u001b[0mmrecords\u001b[0m \u001b[0;32mas\u001b[0m \u001b[0mmrecords\u001b[0m\u001b[0;34m\u001b[0m\u001b[0m\n",
      "\u001b[0;32m/usr/local/lib/python2.7/dist-packages/pandas/core/frame.pyc\u001b[0m in \u001b[0;36m_init_dict\u001b[0;34m(self, data, index, columns, dtype)\u001b[0m\n\u001b[1;32m    361\u001b[0m \u001b[0;34m\u001b[0m\u001b[0m\n\u001b[1;32m    362\u001b[0m         return _arrays_to_mgr(arrays, data_names, index, columns,\n\u001b[0;32m--> 363\u001b[0;31m                               dtype=dtype)\n\u001b[0m\u001b[1;32m    364\u001b[0m \u001b[0;34m\u001b[0m\u001b[0m\n\u001b[1;32m    365\u001b[0m     def _init_ndarray(self, values, index, columns, dtype=None,\n",
      "\u001b[0;32m/usr/local/lib/python2.7/dist-packages/pandas/core/frame.pyc\u001b[0m in \u001b[0;36m_arrays_to_mgr\u001b[0;34m(arrays, arr_names, index, columns, dtype)\u001b[0m\n\u001b[1;32m   5156\u001b[0m     \u001b[0;31m# figure out the index, if necessary\u001b[0m\u001b[0;34m\u001b[0m\u001b[0;34m\u001b[0m\u001b[0m\n\u001b[1;32m   5157\u001b[0m     \u001b[0;32mif\u001b[0m \u001b[0mindex\u001b[0m \u001b[0;32mis\u001b[0m \u001b[0mNone\u001b[0m\u001b[0;34m:\u001b[0m\u001b[0;34m\u001b[0m\u001b[0m\n\u001b[0;32m-> 5158\u001b[0;31m         \u001b[0mindex\u001b[0m \u001b[0;34m=\u001b[0m \u001b[0mextract_index\u001b[0m\u001b[0;34m(\u001b[0m\u001b[0marrays\u001b[0m\u001b[0;34m)\u001b[0m\u001b[0;34m\u001b[0m\u001b[0m\n\u001b[0m\u001b[1;32m   5159\u001b[0m     \u001b[0;32melse\u001b[0m\u001b[0;34m:\u001b[0m\u001b[0;34m\u001b[0m\u001b[0m\n\u001b[1;32m   5160\u001b[0m         \u001b[0mindex\u001b[0m \u001b[0;34m=\u001b[0m \u001b[0m_ensure_index\u001b[0m\u001b[0;34m(\u001b[0m\u001b[0mindex\u001b[0m\u001b[0;34m)\u001b[0m\u001b[0;34m\u001b[0m\u001b[0m\n",
      "\u001b[0;32m/usr/local/lib/python2.7/dist-packages/pandas/core/frame.pyc\u001b[0m in \u001b[0;36mextract_index\u001b[0;34m(data)\u001b[0m\n\u001b[1;32m   5195\u001b[0m \u001b[0;34m\u001b[0m\u001b[0m\n\u001b[1;32m   5196\u001b[0m         \u001b[0;32mif\u001b[0m \u001b[0;32mnot\u001b[0m \u001b[0mindexes\u001b[0m \u001b[0;32mand\u001b[0m \u001b[0;32mnot\u001b[0m \u001b[0mraw_lengths\u001b[0m\u001b[0;34m:\u001b[0m\u001b[0;34m\u001b[0m\u001b[0m\n\u001b[0;32m-> 5197\u001b[0;31m             raise ValueError('If using all scalar values, you must pass'\n\u001b[0m\u001b[1;32m   5198\u001b[0m                              ' an index')\n\u001b[1;32m   5199\u001b[0m \u001b[0;34m\u001b[0m\u001b[0m\n",
      "\u001b[0;31mValueError\u001b[0m: If using all scalar values, you must pass an index"
     ]
    }
   ],
   "source": [
    "# import pandas as pd\n",
    "\n",
    "# pd.DataFrame.from_dict(top_word_per_party)"
   ]
  }
 ],
 "metadata": {
  "kernelspec": {
   "display_name": "Python 2",
   "language": "python",
   "name": "python2"
  },
  "language_info": {
   "codemirror_mode": {
    "name": "ipython",
    "version": 2
   },
   "file_extension": ".py",
   "mimetype": "text/x-python",
   "name": "python",
   "nbconvert_exporter": "python",
   "pygments_lexer": "ipython2",
   "version": "2.7.6"
  }
 },
 "nbformat": 4,
 "nbformat_minor": 1
}
