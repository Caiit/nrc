{
 "cells": [
  {
   "cell_type": "markdown",
   "metadata": {},
   "source": [
    "Wat het onderzoek zou moeten opleveren, denk ik:\n",
    "\n",
    "1. Twee (of vier) lijsten van meest gebruikte ‘linkse’ en ‘rechtse’ worden – gerankt\n",
    "2. Een lijst van favoriete woorden per partij: het ‘CDA-woord’, het ‘D66-woord’ etc.\n",
    "3. een lijst van ambigue woorden – populair bij links én rechts\n",
    "\n",
    "*De woorden van links*\n",
    "\n",
    "* Afbraak\n",
    "* Gelijkheid\n",
    "* Solidariteit\n",
    "* Samen\n",
    "* Collectief\n",
    "* Sociaal\n",
    "* Beschermen\n",
    "* Neoliberalisme\n",
    "* Amerikaanse toestanden\n",
    "* Tweedeling\n",
    "* Kloof\n",
    "* Ongelijkheid\n",
    "* Integreren/integratie\n",
    "* Preventie\n",
    "* Kansen (en ook kans?? Vragen)\n",
    "* Verbinding/-en\n",
    "* Perspectief\n",
    "* Eerlijk delen\n",
    "* Verheffen\n",
    "* Nivelleren\n",
    "\n",
    "\n",
    "*De woorden van rechts*\n",
    "\n",
    "* Vrijheid\n",
    "* Potverteren\n",
    "* Kleine overheid\n",
    "* Fatsoen\n",
    "* Belasting(en)\n",
    "* Ondernemen(d)/-ers\n",
    "* (Keihard) Aanpakken\n",
    "* Opsluiten\n",
    "* Achter slot en grendel\n",
    "* Joods-christelijke cultuur/Leitkultur/traditie\n",
    "* Islamisering\n",
    "* Daders\n",
    "* Veiligheid\n",
    "* Slachtoffer(s)\n",
    "* Individu\n",
    "* Eigen verantwoordelijkheid\n",
    "* Soeverein(iteit)\n",
    "* Normen en waarden/waarden en normen\n",
    "\n",
    "\n",
    "**Partijen**\n",
    "\n",
    "SP, PvdA, D66, GroenLinks, 50Plus, SGP, VVD, CU, PVV, PvdD.\n",
    "\n",
    "CU en ChristenUnie is hetzelfde, die kun je samenvoegen. (‘CU/SGP’ en ‘SGP/CU’ kun je buiten beschouwing laten)\n",
    "Groep Wilders en PVV idem.\n",
    "\n",
    "50Plus en 50Plus/Baay-Timmerman idem.\n",
    "\n",
    "\n",
    "*Sociaal-economisch links*\n",
    "\n",
    "* SP\n",
    "* GroenLinks\n",
    "* PvdA\n",
    "* PVV\n",
    "* ChristenUnie\n",
    "* Partij voor de Dieren\n",
    "* Denk (= groep Kuzu-Öztürk) (niet gedaan, want stond niet in zn lijstje hierboven)\n",
    "\n",
    "*Sociaal-economisch rechts*\n",
    "\n",
    "* PVV\n",
    "* VVD\n",
    "* CDA\n",
    "* SGP\n",
    "* 50Plus\n",
    "\n",
    "*Sociaal-cultureel links*\n",
    "\n",
    "* SP\n",
    "* GroenLinks\n",
    "* PvdA\n",
    "* Partij voor de Dieren\n",
    "* D66\n",
    "\n",
    "*Sociaal-cultureel rechts*\n",
    "\n",
    "* PVV\n",
    "* ChristenUnie\n",
    "* VVD\n",
    "* CDA\n",
    "* SGP\n",
    "* 50Plus\n",
    "* Denk (= groep Kuzu-Öztürk)\n",
    "\n"
   ]
  },
  {
   "cell_type": "markdown",
   "metadata": {},
   "source": [
    "http://search.politicalmashup.nl/\n",
    "* 01-01-2006 - 01-01-2016\n",
    "* mp\n",
    "* commons\n",
    "\n",
    "\n",
    "\n",
    "Kleine overheid moeten we ff kijken of dat goed gaat "
   ]
  },
  {
   "cell_type": "code",
   "execution_count": 2,
   "metadata": {
    "collapsed": false,
    "scrolled": true
   },
   "outputs": [
    {
     "name": "stdout",
     "output_type": "stream",
     "text": [
      "{'50PLUS': {'gelijkheid': 1, 'leitkultur': 1, 'perspectief': 27, 'individu': 24, 'ondernemen': 34, 'belasting': 42, 'potverteren': 1, 'asociaal': 5, 'eerlijk delen': 7, 'kloof': 7, 'solidariteit': 7, 'veiligheid': 37, 'slachtoffer': 12, 'afbraak': 8, 'integreren': 4, 'vrijheid': 16, 'ongelijkheid': 4, 'aanpakken': 35, 'tweedeling': 4, 'preventie': 22, 'collectief': 8, 'eigen verantwoordelijkheid': 5, 'beschermen': 8, 'soeverein': 1, 'verbinding': 12}, 'D66': {'gelijkheid': 28, 'amerikaanse toestanden': 1, 'perspectief': 216, 'leitkultur': 136, 'individu': 402, 'kleine overheid': 2, 'islamisering': 1, 'belasting': 345, 'potverteren': 2, 'asociaal': 14, 'eerlijk delen': 7, 'kloof': 18, 'solidariteit': 87, 'opsluiten': 27, 'achter slot en grendel': 8, 'dader': 44, 'normen waarden': 19, 'veiligheid': 707, 'slachtoffer': 198, 'sociaal': 1, 'neoliberalisme': 6, 'integreren': 297, 'vrijheid': 448, 'ongelijkheid': 47, 'aanpakken': 518, 'tweedeling': 32, 'nivelleren': 56, 'ondernemen': 477, 'preventie': 196, 'collectief': 107, 'eigen verantwoordelijkheid': 80, 'afbraak': 33, 'beschermen': 234, 'verheffen': 14, 'soeverein': 63, 'fatsoen': 18, 'verbinding': 270}, 'CU': {'gelijkheid': 14, 'leitkultur': 70, 'perspectief': 234, 'afbraak': 22, 'individu': 249, 'kleine overheid': 1, 'islamisering': 1, 'belasting': 107, 'asociaal': 10, 'eerlijk delen': 3, 'kloof': 37, 'solidariteit': 63, 'opsluiten': 24, 'achter slot en grendel': 1, 'dader': 38, 'normen waarden': 27, 'veiligheid': 440, 'slachtoffer': 175, 'sociaal': 1, 'neoliberalisme': 1, 'integreren': 166, 'vrijheid': 334, 'ongelijkheid': 28, 'aanpakken': 222, 'tweedeling': 14, 'nivelleren': 1, 'ondernemen': 316, 'preventie': 178, 'collectief': 54, 'eigen verantwoordelijkheid': 64, 'fatsoen': 10, 'beschermen': 152, 'verheffen': 6, 'soeverein': 40, 'verbinding': 234}, 'PvdD': {'gelijkheid': 2, 'leitkultur': 30, 'perspectief': 34, 'afbraak': 13, 'individu': 90, 'kleine overheid': 1, 'islamisering': 1, 'belasting': 66, 'potverteren': 1, 'asociaal': 3, 'eerlijk delen': 1, 'kloof': 11, 'solidariteit': 28, 'opsluiten': 22, 'dader': 10, 'normen waarden': 9, 'veiligheid': 157, 'slachtoffer': 83, 'achter slot en grendel': 1, 'neoliberalisme': 2, 'integreren': 21, 'vrijheid': 125, 'ongelijkheid': 2, 'aanpakken': 132, 'tweedeling': 1, 'nivelleren': 1, 'ondernemen': 171, 'preventie': 70, 'collectief': 21, 'eigen verantwoordelijkheid': 28, 'fatsoen': 5, 'beschermen': 230, 'verheffen': 8, 'soeverein': 20, 'verbinding': 74}, 'CDA': {'gelijkheid': 15, 'amerikaanse toestanden': 2, 'perspectief': 429, 'leitkultur': 90, 'individu': 632, 'kleine overheid': 3, 'islamisering': 4, 'belasting': 509, 'potverteren': 5, 'asociaal': 17, 'eerlijk delen': 8, 'kloof': 30, 'solidariteit': 121, 'opsluiten': 23, 'dader': 94, 'normen waarden': 46, 'veiligheid': 843, 'slachtoffer': 264, 'achter slot en grendel': 3, 'neoliberalisme': 7, 'integreren': 387, 'vrijheid': 414, 'ongelijkheid': 28, 'aanpakken': 706, 'tweedeling': 25, 'nivelleren': 73, 'ondernemen': 897, 'preventie': 272, 'collectief': 165, 'eigen verantwoordelijkheid': 150, 'afbraak': 41, 'beschermen': 290, 'verheffen': 10, 'soeverein': 28, 'fatsoen': 23, 'verbinding': 389}, 'PvdA': {'gelijkheid': 34, 'amerikaanse toestanden': 6, 'perspectief': 407, 'leitkultur': 115, 'individu': 706, 'ondernemen': 729, 'islamisering': 9, 'belasting': 413, 'potverteren': 3, 'asociaal': 33, 'eerlijk delen': 56, 'kloof': 39, 'solidariteit': 195, 'opsluiten': 81, 'achter slot en grendel': 3, 'dader': 145, 'normen waarden': 36, 'veiligheid': 955, 'slachtoffer': 425, 'sociaal': 4, 'neoliberalisme': 16, 'integreren': 431, 'vrijheid': 551, 'ongelijkheid': 35, 'aanpakken': 862, 'tweedeling': 31, 'nivelleren': 16, 'preventie': 386, 'collectief': 197, 'eigen verantwoordelijkheid': 130, 'afbraak': 51, 'beschermen': 395, 'verheffen': 25, 'soeverein': 45, 'fatsoen': 28, 'verbinding': 447}, 'GroenLinks': {'gelijkheid': 15, 'amerikaanse toestanden': 3, 'perspectief': 281, 'leitkultur': 99, 'individu': 396, 'kleine overheid': 6, 'islamisering': 22, 'belasting': 377, 'potverteren': 6, 'asociaal': 16, 'eerlijk delen': 56, 'kloof': 40, 'solidariteit': 115, 'opsluiten': 43, 'dader': 61, 'normen waarden': 34, 'veiligheid': 516, 'slachtoffer': 235, 'achter slot en grendel': 3, 'neoliberalisme': 20, 'integreren': 320, 'vrijheid': 398, 'ongelijkheid': 40, 'aanpakken': 466, 'tweedeling': 25, 'nivelleren': 50, 'ondernemen': 423, 'preventie': 178, 'collectief': 87, 'eigen verantwoordelijkheid': 90, 'afbraak': 27, 'beschermen': 269, 'verheffen': 19, 'soeverein': 48, 'fatsoen': 15, 'verbinding': 270}, 'SGP': {'gelijkheid': 14, 'leitkultur': 107, 'perspectief': 219, 'afbraak': 18, 'individu': 218, 'kleine overheid': 2, 'islamisering': 7, 'belasting': 136, 'potverteren': 2, 'asociaal': 1, 'kloof': 44, 'solidariteit': 20, 'opsluiten': 10, 'dader': 30, 'normen waarden': 35, 'veiligheid': 235, 'slachtoffer': 66, 'achter slot en grendel': 5, 'neoliberalisme': 2, 'integreren': 121, 'vrijheid': 277, 'ongelijkheid': 22, 'aanpakken': 195, 'tweedeling': 4, 'nivelleren': 6, 'ondernemen': 163, 'preventie': 79, 'collectief': 45, 'eigen verantwoordelijkheid': 72, 'fatsoen': 4, 'beschermen': 73, 'verheffen': 3, 'soeverein': 22, 'verbinding': 203}, 'SP': {'gelijkheid': 23, 'amerikaanse toestanden': 4, 'perspectief': 248, 'leitkultur': 121, 'individu': 553, 'kleine overheid': 2, 'islamisering': 5, 'belasting': 643, 'potverteren': 2, 'asociaal': 92, 'eerlijk delen': 54, 'kloof': 76, 'solidariteit': 253, 'opsluiten': 66, 'achter slot en grendel': 1, 'dader': 98, 'normen waarden': 28, 'veiligheid': 955, 'slachtoffer': 383, 'sociaal': 4, 'neoliberalisme': 155, 'integreren': 434, 'vrijheid': 488, 'ongelijkheid': 86, 'aanpakken': 805, 'tweedeling': 146, 'nivelleren': 17, 'ondernemen': 654, 'preventie': 275, 'collectief': 234, 'eigen verantwoordelijkheid': 128, 'afbraak': 203, 'beschermen': 377, 'verheffen': 18, 'soeverein': 88, 'fatsoen': 45, 'verbinding': 298}, 'PVV': {'gelijkheid': 46, 'amerikaanse toestanden': 1, 'perspectief': 92, 'leitkultur': 106, 'individu': 241, 'kleine overheid': 1, 'islamisering': 192, 'belasting': 561, 'potverteren': 4, 'asociaal': 61, 'eerlijk delen': 6, 'kloof': 45, 'solidariteit': 71, 'opsluiten': 53, 'dader': 229, 'normen waarden': 55, 'veiligheid': 663, 'slachtoffer': 366, 'achter slot en grendel': 10, 'neoliberalisme': 6, 'integreren': 287, 'vrijheid': 843, 'ongelijkheid': 26, 'aanpakken': 612, 'tweedeling': 12, 'nivelleren': 58, 'ondernemen': 388, 'preventie': 139, 'collectief': 61, 'eigen verantwoordelijkheid': 81, 'afbraak': 96, 'beschermen': 312, 'verheffen': 17, 'soeverein': 147, 'fatsoen': 42, 'verbinding': 153}, 'VVD': {'gelijkheid': 26, 'amerikaanse toestanden': 5, 'perspectief': 314, 'leitkultur': 99, 'individu': 753, 'kleine overheid': 25, 'belasting': 511, 'potverteren': 16, 'asociaal': 28, 'eerlijk delen': 2, 'kloof': 20, 'solidariteit': 112, 'opsluiten': 55, 'dader': 131, 'normen waarden': 31, 'veiligheid': 943, 'slachtoffer': 401, 'achter slot en grendel': 5, 'neoliberalisme': 6, 'integreren': 410, 'vrijheid': 741, 'ongelijkheid': 35, 'aanpakken': 691, 'tweedeling': 19, 'nivelleren': 29, 'ondernemen': 1303, 'preventie': 182, 'collectief': 184, 'eigen verantwoordelijkheid': 189, 'afbraak': 42, 'beschermen': 264, 'verheffen': 13, 'soeverein': 64, 'fatsoen': 16, 'verbinding': 329}}\n",
      "{'gelijkheid': 30, 'amerikaanse toestanden': 14, 'perspectief': 2440, 'leitkultur': 858, 'individu': 4078, 'kleine overheid': 2, 'islamisering': 147, 'belasting': 3579, 'potverteren': 18, 'asociaal': 101, 'eerlijk delen': 115, 'kloof': 162, 'solidariteit': 956, 'opsluiten': 330, 'achter slot en grendel': 5, 'dader': 784, 'normen waarden': 228, 'veiligheid': 6387, 'slachtoffer': 1848, 'sociaal': 7, 'neoliberalisme': 9, 'integreren': 2621, 'vrijheid': 4435, 'ongelijkheid': 146, 'aanpakken': 5134, 'tweedeling': 207, 'nivelleren': 145, 'ondernemen': 5384, 'preventie': 1900, 'collectief': 998, 'eigen verantwoordelijkheid': 840, 'afbraak': 488, 'beschermen': 2446, 'verheffen': 54, 'soeverein': 412, 'fatsoen': 128, 'verbinding': 2584}\n"
     ]
    }
   ],
   "source": [
    "import csv\n",
    "import re\n",
    "\n",
    "# Parties used \n",
    "parties = {\"SP\": {}, \"PvdA\": {}, \"D66\": {}, \"GroenLinks\": {}, \"50PLUS\": {}, \"SGP\": {}, \"VVD\": {}, \"CU\": {}, \n",
    "           \"PVV\": {}, \"PvdD\": {}, \"CDA\": {}}\n",
    "\n",
    "# Dict which will contain all words with their amount of occurences\n",
    "words = {}\n",
    "\n",
    "# Telt momenteel in hoeveel speeches het woord gezegd wordt\n",
    "def getData(word):\n",
    "    # Get the amount of speeches the word is used in from a csv file\n",
    "    with open(\"newCSVs/\" + word + \".csv\") as csvfile:\n",
    "        reader = csv.DictReader(csvfile)\n",
    "        for row in reader:\n",
    "            # Correct party name if necessary\n",
    "            # Some parties start with EP/, remove that\n",
    "            party = re.sub('EP/', '', row[\"party\"])\n",
    "            # CU and ChristenUnie are the same\n",
    "            if party == \"ChristenUnie\":\n",
    "                party = \"CU\"\n",
    "            # Groep Wilders is same as PVV\n",
    "            elif party == \"Groep Wilders\":\n",
    "                party = \"PVV\"\n",
    "            # 50Plus/Baay-Timmerman is same as 50Plus\n",
    "            elif party == \"50PLUS/Baay-Timmerman\":\n",
    "                party = \"50PLUS\"\n",
    "            # Only use the defined parties\n",
    "            if party in parties:\n",
    "                if word in parties[party]:\n",
    "                    parties[party][word] += 1\n",
    "                    words[word] += 1\n",
    "                else:\n",
    "                    # New word\n",
    "                    parties[party][word] = 1\n",
    "                    words[word] = 1\n",
    "            \n",
    "allLeftWords = ['afbraak', 'gelijkheid', 'solidariteit', 'collectief', 'sociaal', 'beschermen', \n",
    "                'neoliberalisme', 'amerikaanse toestanden', 'tweedeling', 'kloof', 'ongelijkheid', \n",
    "                'integreren', 'preventie', 'verbinding', 'perspectief', 'eerlijk delen', \n",
    "                'verheffen', 'nivelleren']\n",
    "\n",
    "allRightWords = ['normen waarden', 'asociaal', 'vrijheid', 'potverteren', 'kleine overheid', 'fatsoen', \n",
    "                 'belasting', 'ondernemen', 'aanpakken', 'opsluiten', 'achter slot en grendel', 'leitkultur',\n",
    "                 'islamisering', 'dader', 'veiligheid', 'slachtoffer', 'individu', 'eigen verantwoordelijkheid',\n",
    "                 'soeverein']\n",
    "\n",
    "for leftWord in allLeftWords:\n",
    "    getData(leftWord)\n",
    "for rightWord in allRightWords:\n",
    "    getData(rightWord)\n",
    "# getData('afbraak')\n",
    "# getData('gelijkheid')\n",
    "# getData('vrijheid')\n",
    "print(parties)\n",
    "print(words)\n"
   ]
  },
  {
   "cell_type": "code",
   "execution_count": 29,
   "metadata": {
    "collapsed": false
   },
   "outputs": [],
   "source": [
    "links = {}\n",
    "rechts = {}\n",
    "\n",
    "for party in parties:\n",
    "    for word in parties[party]:\n",
    "        if party in eco_links_parties or party in cult_links_parties:\n",
    "            if word is not 'samen' and word is not 'kans':\n",
    "                if word in links:\n",
    "                    links[word] += parties[party][word]\n",
    "                else:\n",
    "                    links[word] = parties[party][word]\n",
    "        if party in eco_rechts_parties or cult_rechts_parties:\n",
    "            if word is not 'samen' and word is not 'kans':\n",
    "                if word in rechts:\n",
    "                    rechts[word] += parties[party][word]\n",
    "                else:\n",
    "                    rechts[word] = parties[party][word]\n",
    "            \n",
    "sortedDict = sorted(links.items(), key=operator.itemgetter(1), reverse=True)\n",
    "frame = pd.DataFrame(sortedDict[:10], columns=('woord', 'hoeveelheid'))\n",
    "frame.to_csv('woorden_linkse_partijen_Top10.csv')\n",
    "\n",
    "sortedDict = sorted(rechts.items(), key=operator.itemgetter(1), reverse=True)\n",
    "frame = pd.DataFrame(sortedDict[:10], columns=('woord', 'hoeveelheid'))\n",
    "frame.to_csv('woorden_rechtse_partijen_Top10.csv')"
   ]
  },
  {
   "cell_type": "code",
   "execution_count": 9,
   "metadata": {
    "collapsed": false
   },
   "outputs": [
    {
     "name": "stdout",
     "output_type": "stream",
     "text": [
      "All words\n",
      "\n",
      "[('kleine overheid', 2), ('achter slot en grendel', 5), ('sociaal', 7), ('neoliberalisme', 9), ('amerikaanse toestanden', 14), ('potverteren', 18), ('gelijkheid', 30), ('verheffen', 54), ('asociaal', 101), ('eerlijk delen', 115), ('fatsoen', 128), ('nivelleren', 145), ('ongelijkheid', 146), ('islamisering', 147), ('kloof', 162), ('tweedeling', 207), ('normen waarden', 228), ('opsluiten', 330), ('soeverein', 412), ('afbraak', 488), ('dader', 784), ('eigen verantwoordelijkheid', 840), ('leitkultur', 858), ('solidariteit', 956), ('collectief', 998), ('slachtoffer', 1848), ('preventie', 1900), ('perspectief', 2440), ('beschermen', 2446), ('verbinding', 2584), ('integreren', 2621), ('belasting', 3579), ('individu', 4078), ('vrijheid', 4435), ('aanpakken', 5134), ('ondernemen', 5384), ('veiligheid', 6387), ('kans', 8350), ('samen', 9239)]\n",
      "\n",
      "Words that are higher than the threshold, so they will be used\n",
      "\n",
      "[('asociaal', 101), ('eerlijk delen', 115), ('fatsoen', 128), ('nivelleren', 145), ('ongelijkheid', 146), ('islamisering', 147), ('kloof', 162), ('tweedeling', 207), ('normen waarden', 228), ('opsluiten', 330), ('soeverein', 412), ('afbraak', 488), ('dader', 784), ('eigen verantwoordelijkheid', 840), ('leitkultur', 858), ('solidariteit', 956), ('collectief', 998), ('slachtoffer', 1848), ('preventie', 1900), ('perspectief', 2440), ('beschermen', 2446), ('verbinding', 2584), ('integreren', 2621), ('belasting', 3579), ('individu', 4078), ('vrijheid', 4435), ('aanpakken', 5134), ('ondernemen', 5384), ('veiligheid', 6387), ('kans', 8350), ('samen', 9239)]\n"
     ]
    }
   ],
   "source": [
    "import operator\n",
    "\n",
    "# Sort words in ascending order\n",
    "sorted_words = sorted(words.items(), key=operator.itemgetter(1))\n",
    "\n",
    "# Show all words with the occurences\n",
    "print(\"All words\\n\")\n",
    "print(sorted_words)\n",
    "\n",
    "# Keep only the words that appear more than the threshold\n",
    "threshold = 100\n",
    "used_words = [word for word in sorted_words if word[1] > threshold] \n",
    "\n",
    "# Show words that are going to be used\n",
    "print(\"\\nWords that are higher than the threshold, so they will be used\\n\")\n",
    "print(used_words)\n",
    "\n",
    "# Create a dict of those words again\n",
    "used_words = dict(used_words) \n",
    "\n",
    "\n",
    "\n"
   ]
  },
  {
   "cell_type": "code",
   "execution_count": 3,
   "metadata": {
    "collapsed": false
   },
   "outputs": [],
   "source": [
    "import matplotlib.pyplot as plt\n",
    "import numpy as np\n",
    "\n",
    "def makeGraph(words, counts, allColors, allParties, wordSort, info):\n",
    "    fig, ax = plt.subplots()\n",
    "    n_groups = len(allParties)\n",
    "    index = np.arange(len(words))\n",
    "    bar_width = 1.0/(n_groups + 2)\n",
    "    opacity = 0.8 \n",
    "    \n",
    "    for i in range(len(allParties)):\n",
    "        plt.bar(index + bar_width*i, counts[i], bar_width, alpha=opacity, color=allColors[i], \n",
    "                label=allParties[i])\n",
    "        \n",
    "    plt.xlabel('Woord')\n",
    "    plt.ylabel('Aantal keer genoemd')\n",
    "    plt.title('Aantal keer dat ' + wordSort + ' woorden zijn genoemd over de periode 2006-2016 ' + info)\n",
    "    plt.xticks(index + 0.75, words, fontsize=6)\n",
    "    plt.legend()\n",
    "    plt.tight_layout()\n",
    "    plt.show()\n",
    "\n",
    "def calculateCountsParty(parties, words):\n",
    "    allParties = list(parties.keys())\n",
    "    allCounts = []\n",
    "    for party in allParties:\n",
    "        counts = []\n",
    "        partyDict = parties[party]\n",
    "        for word in words:\n",
    "            if word in partyDict.keys():\n",
    "                counts.append(partyDict[word])\n",
    "            else:\n",
    "                counts.append(0)\n",
    "        allCounts.append(tuple(counts))\n",
    "    return allCounts\n",
    "    "
   ]
  },
  {
   "cell_type": "code",
   "execution_count": 4,
   "metadata": {
    "collapsed": false
   },
   "outputs": [
    {
     "name": "stdout",
     "output_type": "stream",
     "text": [
      "['afbraak', 'solidariteit', 'samen', 'collectief', 'beschermen', 'tweedeling', 'kloof', 'ongelijkheid', 'integreren', 'preventie', 'kans', 'verbinding', 'perspectief', 'eerlijk delen', 'nivelleren']\n"
     ]
    }
   ],
   "source": [
    "# Get all words that occur in the thresholded sorted list\n",
    "def getUsedWords(words, sorted_words):\n",
    "    return [word for word in words if word in sorted_words]\n",
    "\n",
    "print(getUsedWords(allLeftWords, used_words))"
   ]
  },
  {
   "cell_type": "code",
   "execution_count": 5,
   "metadata": {
    "collapsed": false
   },
   "outputs": [],
   "source": [
    "import matplotlib.colors as colors\n",
    "\n",
    "allColors = list(colors.cnames.keys())\n",
    "allUsedLeftWords = getUsedWords(allLeftWords, used_words)\n",
    "counts = calculateCountsParty(parties, allUsedLeftWords)\n",
    "makeGraph(allUsedLeftWords, counts, allColors, list(parties.keys()), 'linkse', 'per partij')"
   ]
  },
  {
   "cell_type": "code",
   "execution_count": 6,
   "metadata": {
    "collapsed": false
   },
   "outputs": [],
   "source": [
    "allUsedRightWords = getUsedWords(allRightWords, used_words)\n",
    "counts = calculateCountsParty(parties, allUsedRightWords)\n",
    "makeGraph(allUsedRightWords, counts, allColors, list(parties.keys()), 'rechtse', 'per partij')"
   ]
  },
  {
   "cell_type": "code",
   "execution_count": 27,
   "metadata": {
    "collapsed": false
   },
   "outputs": [
    {
     "name": "stdout",
     "output_type": "stream",
     "text": [
      "{'PvdD': [('beschermen', 230), ('ondernemen', 171), ('veiligheid', 157), ('aanpakken', 132), ('vrijheid', 125)], 'D66': [('veiligheid', 707), ('aanpakken', 518), ('ondernemen', 477), ('vrijheid', 448), ('individu', 402)], 'CDA': [('ondernemen', 897), ('veiligheid', 843), ('aanpakken', 706), ('individu', 632), ('belasting', 509)], 'PvdA': [('veiligheid', 955), ('aanpakken', 862), ('ondernemen', 729), ('individu', 706), ('vrijheid', 551)], 'GroenLinks': [('veiligheid', 516), ('aanpakken', 466), ('ondernemen', 423), ('vrijheid', 398), ('individu', 396)], 'SGP': [('vrijheid', 277), ('veiligheid', 235), ('perspectief', 219), ('individu', 218), ('verbinding', 203)], 'SP': [('veiligheid', 955), ('aanpakken', 805), ('ondernemen', 654), ('belasting', 643), ('individu', 553)], 'PVV': [('vrijheid', 843), ('veiligheid', 663), ('aanpakken', 612), ('belasting', 561), ('ondernemen', 388)], '50PLUS': [('belasting', 42), ('veiligheid', 37), ('aanpakken', 35), ('ondernemen', 34), ('perspectief', 27)], 'VVD': [('ondernemen', 1303), ('veiligheid', 943), ('individu', 753), ('vrijheid', 741), ('aanpakken', 691)], 'CU': [('veiligheid', 440), ('vrijheid', 334), ('ondernemen', 316), ('individu', 249), ('perspectief', 234)]}\n"
     ]
    }
   ],
   "source": [
    "import copy\n",
    "# Een lijst van favoriete woorden per partij: het ‘CDA-woord’, het ‘D66-woord’ etc.\n",
    "top_words_per_party = {}\n",
    "number_of_top_words = 5\n",
    "copy_parties = copy.deepcopy(parties) # not sure if we use parties later, so just to be sure to not delete from original dict\n",
    "for party in copy_parties.keys():\n",
    "    try:\n",
    "        del copy_parties[party]['samen']\n",
    "    except KeyError:\n",
    "        pass\n",
    "    try:\n",
    "        del copy_parties[party]['kans']\n",
    "    except KeyError:\n",
    "        pass\n",
    "    top_words_per_party[party] = sorted(copy_parties[party].iteritems(), \n",
    "                                        key=operator.itemgetter(1), reverse=True)[0:number_of_top_words]\n",
    "    \n",
    "print(top_words_per_party)"
   ]
  },
  {
   "cell_type": "code",
   "execution_count": 28,
   "metadata": {
    "collapsed": false
   },
   "outputs": [],
   "source": [
    "import pandas as pd\n",
    "\n",
    "df = pd.DataFrame.from_dict(top_words_per_party, orient='index')\n",
    "df.columns = ['#1', '#2', '#3', '#4', '#5']\n",
    "\n",
    "df.to_csv('top5.csv')\n"
   ]
  },
  {
   "cell_type": "code",
   "execution_count": 6,
   "metadata": {
    "collapsed": false
   },
   "outputs": [
    {
     "data": {
      "text/plain": [
       "{'cult_links': {'afbraak': 327,\n",
       "  'amerikaanse toestanden': 14,\n",
       "  'beschermen': 1505,\n",
       "  'collectief': 646,\n",
       "  'eerlijk delen': 174,\n",
       "  'gelijkheid': 102,\n",
       "  'integreren': 1503,\n",
       "  'kloof': 184,\n",
       "  'neoliberalisme': 199,\n",
       "  'nivelleren': 140,\n",
       "  'ongelijkheid': 210,\n",
       "  'perspectief': 1186,\n",
       "  'preventie': 1105,\n",
       "  'sociaal': 9,\n",
       "  'solidariteit': 678,\n",
       "  'tweedeling': 235,\n",
       "  'verbinding': 1359,\n",
       "  'verheffen': 84},\n",
       " 'cult_rechts': {'aanpakken': 2461,\n",
       "  'achter slot en grendel': 24,\n",
       "  'asociaal': 122,\n",
       "  'belasting': 1866,\n",
       "  'dader': 522,\n",
       "  'eigen verantwoordelijkheid': 561,\n",
       "  'fatsoen': 95,\n",
       "  'individu': 2117,\n",
       "  'islamisering': 204,\n",
       "  'kleine overheid': 32,\n",
       "  'leitkultur': 473,\n",
       "  'normen waarden': 194,\n",
       "  'ondernemen': 3101,\n",
       "  'opsluiten': 165,\n",
       "  'potverteren': 28,\n",
       "  'slachtoffer': 1284,\n",
       "  'soeverein': 302,\n",
       "  'veiligheid': 3161,\n",
       "  'vrijheid': 2625},\n",
       " 'eco_links': {'afbraak': 412,\n",
       "  'amerikaanse toestanden': 14,\n",
       "  'beschermen': 1735,\n",
       "  'collectief': 654,\n",
       "  'eerlijk delen': 176,\n",
       "  'gelijkheid': 134,\n",
       "  'integreren': 1659,\n",
       "  'kloof': 248,\n",
       "  'neoliberalisme': 200,\n",
       "  'nivelleren': 143,\n",
       "  'ongelijkheid': 217,\n",
       "  'perspectief': 1296,\n",
       "  'preventie': 1226,\n",
       "  'sociaal': 9,\n",
       "  'solidariteit': 725,\n",
       "  'tweedeling': 229,\n",
       "  'verbinding': 1476,\n",
       "  'verheffen': 93},\n",
       " 'eco_rechts': {'aanpakken': 2145,\n",
       "  'achter slot en grendel': 21,\n",
       "  'asociaal': 65,\n",
       "  'belasting': 1543,\n",
       "  'dader': 299,\n",
       "  'eigen verantwoordelijkheid': 496,\n",
       "  'fatsoen': 61,\n",
       "  'individu': 2029,\n",
       "  'islamisering': 12,\n",
       "  'kleine overheid': 32,\n",
       "  'leitkultur': 433,\n",
       "  'normen waarden': 131,\n",
       "  'ondernemen': 2874,\n",
       "  'opsluiten': 115,\n",
       "  'potverteren': 26,\n",
       "  'slachtoffer': 941,\n",
       "  'soeverein': 178,\n",
       "  'veiligheid': 2765,\n",
       "  'vrijheid': 1896}}"
      ]
     },
     "execution_count": 6,
     "metadata": {},
     "output_type": "execute_result"
    }
   ],
   "source": [
    "# 4 Groups: Sociaal-economisch links, Sociaal-economisch rechts, Sociaal-cultureel links, Sociaal-cultureel rechts\n",
    "\n",
    "# TODO: PVV, zowel links als rechts??\n",
    "eco_links_parties = ['SP', 'GroenLinks', 'PvdA', 'PVV', 'CU', 'PvdD'] \n",
    "eco_rechts_parties = ['VVD', 'CDA', 'D66', 'SGP', '50PLUS']\n",
    "cult_links_parties = ['SP', 'GroenLinks', 'PvdA', 'PvdD', 'D66']\n",
    "cult_rechts_parties = ['PVV', 'CU', 'VVD', 'CDA', 'SGP', '50PLUS']\n",
    "\n",
    "eco_links = {}\n",
    "eco_rechts = {}\n",
    "cult_links = {}\n",
    "cult_rechts = {}\n",
    "\n",
    "for party in parties:\n",
    "    for word in parties[party]:\n",
    "        if party in eco_links_parties:\n",
    "            if word is not 'samen' and word is not 'kans' and word in allLeftWords:\n",
    "                if word in eco_links:\n",
    "                    eco_links[word] += parties[party][word]\n",
    "                else:\n",
    "                    eco_links[word] = parties[party][word]\n",
    "        if party in eco_rechts_parties:\n",
    "            if word is not 'samen' and word is not 'kans' and word in allRightWords:\n",
    "                if word in eco_rechts:\n",
    "                    eco_rechts[word] += parties[party][word]\n",
    "                else:\n",
    "                    eco_rechts[word] = parties[party][word]\n",
    "        if party in cult_links_parties:\n",
    "            if word is not 'samen' and word is not 'kans' and word in allLeftWords:\n",
    "                if word in cult_links:\n",
    "                    cult_links[word] += parties[party][word]\n",
    "                else:\n",
    "                    cult_links[word] = parties[party][word]\n",
    "        if party in cult_rechts_parties:\n",
    "            if word is not 'samen' and word is not 'kans' and word in allRightWords:\n",
    "                if word in cult_rechts:\n",
    "                    cult_rechts[word] += parties[party][word]\n",
    "                else:\n",
    "                    cult_rechts[word] = parties[party][word]\n",
    "\n",
    "groups_dict = {'eco_links': eco_links, 'eco_rechts': eco_rechts, 'cult_links': cult_links, 'cult_rechts': cult_rechts}\n",
    "groups_dict"
   ]
  },
  {
   "cell_type": "code",
   "execution_count": 7,
   "metadata": {
    "collapsed": false
   },
   "outputs": [],
   "source": [
    "import pandas as pd\n",
    "from collections import Counter\n",
    "import operator\n",
    "\n",
    "fourCats = groups_dict.keys()\n",
    "for cat in fourCats:\n",
    "    infoDict = groups_dict[cat]\n",
    "    sortedDict = sorted(infoDict.items(), key=operator.itemgetter(1), reverse=True)\n",
    "    frame = pd.DataFrame(sortedDict, columns=('woord', 'hoeveelheid'))\n",
    "    frame.to_csv(str(cat) + '_SpecificWords.csv')"
   ]
  },
  {
   "cell_type": "code",
   "execution_count": null,
   "metadata": {
    "collapsed": true
   },
   "outputs": [],
   "source": []
  },
  {
   "cell_type": "code",
   "execution_count": 11,
   "metadata": {
    "collapsed": false
   },
   "outputs": [],
   "source": [
    "counts = calculateCountsParty(groups_dict, allUsedLeftWords+allUsedRightWords)\n",
    "makeGraph(allUsedLeftWords+allUsedRightWords, counts, allColors, list(groups_dict.keys()), 'alle', 'per woord')"
   ]
  }
 ],
 "metadata": {
  "kernelspec": {
   "display_name": "Python 2",
   "language": "python",
   "name": "python2"
  },
  "language_info": {
   "codemirror_mode": {
    "name": "ipython",
    "version": 2
   },
   "file_extension": ".py",
   "mimetype": "text/x-python",
   "name": "python",
   "nbconvert_exporter": "python",
   "pygments_lexer": "ipython2",
   "version": "2.7.12"
  }
 },
 "nbformat": 4,
 "nbformat_minor": 1
}
