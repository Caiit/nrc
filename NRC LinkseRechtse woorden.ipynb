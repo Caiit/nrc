{
 "cells": [
  {
   "cell_type": "markdown",
   "metadata": {},
   "source": [
    "Wat het onderzoek zou moeten opleveren, denk ik:\n",
    "\n",
    "1. Twee (of vier) lijsten van meest gebruikte ‘linkse’ en ‘rechtse’ worden – gerankt\n",
    "2. Een lijst van favoriete woorden per partij: het ‘CDA-woord’, het ‘D66-woord’ etc.\n",
    "3. een lijst van ambigue woorden – populair bij links én rechts\n",
    "\n",
    "*De woorden van links*\n",
    "\n",
    "* Afbraak\n",
    "* Gelijkheid\n",
    "* Solidariteit\n",
    "* Samen\n",
    "* Collectief\n",
    "* Sociaal\n",
    "* Beschermen\n",
    "* Neoliberalisme\n",
    "* Amerikaanse toestanden\n",
    "* Tweedeling\n",
    "* Kloof\n",
    "* Ongelijkheid\n",
    "* Integreren/integratie\n",
    "* Preventie\n",
    "* Kansen\n",
    "* Verbinding/-en\n",
    "* Perspectief\n",
    "* Eerlijk delen\n",
    "* Verheffen\n",
    "* Nivelleren\n",
    "\n",
    "\n",
    "*De woorden van rechts*\n",
    "\n",
    "* Vrijheid\n",
    "* Potverteren\n",
    "* Kleine overheid\n",
    "* Fatsoen\n",
    "* Belasting(en)\n",
    "* Ondernemen(d)/-ers\n",
    "* (Keihard) Aanpakken\n",
    "* Opsluiten\n",
    "* Achter slot en grendel\n",
    "* Joods-christelijke cultuur/Leitkultur/traditie\n",
    "* Islamisering\n",
    "* Daders\n",
    "* Veiligheid\n",
    "* Slachtoffer(s)\n",
    "* Individu\n",
    "* Eigen verantwoordelijkheid\n",
    "* Soeverein(iteit)\n",
    "\n",
    "\n",
    "**Partijen**\n",
    "\n",
    "*Sociaal-economisch links*\n",
    "\n",
    "* SP\n",
    "* GroenLinks\n",
    "* PvdA\n",
    "* PVV\n",
    "* ChristenUnie\n",
    "* Partij voor de Dieren\n",
    "* Denk (= groep Kuzu-Öztürk)\n",
    "\n",
    "*Sociaal-economisch rechts*\n",
    "\n",
    "* PVV\n",
    "* VVD\n",
    "* CDA\n",
    "* SGP\n",
    "* 50Plus\n",
    "\n",
    "*Sociaal-cultureel links*\n",
    "\n",
    "* SP\n",
    "* GroenLinks\n",
    "* PvdA\n",
    "* Partij voor de Dieren\n",
    "* D66\n",
    "\n",
    "*Sociaal-cultureel rechts*\n",
    "\n",
    "* PVV\n",
    "* ChristenUnie\n",
    "* VVD\n",
    "* CDA\n",
    "* SGP\n",
    "* 50Plus\n",
    "* Denk (= groep Kuzu-Öztürk)\n",
    "\n"
   ]
  },
  {
   "cell_type": "markdown",
   "metadata": {},
   "source": [
    "http://search.politicalmashup.nl/\n",
    "* 01-01-2006 - 01-01-2016\n",
    "* mp\n",
    "* commons"
   ]
  },
  {
   "cell_type": "code",
   "execution_count": 18,
   "metadata": {
    "collapsed": false,
    "scrolled": true
   },
   "outputs": [
    {
     "data": {
      "text/plain": [
       "{'50PLUS': {'afbraak': 6, 'gelijkheid': 1, 'vrijheid': 11},\n",
       " '50PLUS/Klein': {'vrijheid': 1},\n",
       " 'Bontes': {'vrijheid': 2},\n",
       " 'Brinkman': {'gelijkheid': 2, 'vrijheid': 2},\n",
       " 'CDA': {'afbraak': 5, 'gelijkheid': 15, 'vrijheid': 385},\n",
       " 'ChristenUnie': {'afbraak': 7, 'gelijkheid': 14, 'vrijheid': 299},\n",
       " 'D66': {'afbraak': 4, 'gelijkheid': 28, 'vrijheid': 417},\n",
       " 'GroenLinks': {'afbraak': 9, 'gelijkheid': 15, 'vrijheid': 362},\n",
       " 'Groep Bontes/Van Klaveren': {'vrijheid': 32},\n",
       " 'Groep Eerdmans/Van Schijndel': {'vrijheid': 3},\n",
       " 'Groep Kuzu/\\xc3\\x96zt\\xc3\\xbcrk': {'gelijkheid': 1, 'vrijheid': 13},\n",
       " 'Groep Van Oudenallen': {'vrijheid': 1},\n",
       " 'Groep Wilders': {'vrijheid': 10},\n",
       " 'Houwers': {'gelijkheid': 2},\n",
       " 'Klein': {'vrijheid': 9},\n",
       " 'LPF': {'vrijheid': 20},\n",
       " 'Onafhankelijk': {'vrijheid': 1},\n",
       " 'PVV': {'afbraak': 38, 'gelijkheid': 46, 'vrijheid': 798},\n",
       " 'PvdA': {'afbraak': 12, 'gelijkheid': 34, 'vrijheid': 522},\n",
       " 'PvdD': {'afbraak': 5, 'gelijkheid': 2, 'vrijheid': 115},\n",
       " 'SGP': {'afbraak': 5, 'gelijkheid': 14, 'vrijheid': 262},\n",
       " 'SP': {'afbraak': 95, 'gelijkheid': 23, 'vrijheid': 461},\n",
       " 'VVD': {'afbraak': 10, 'gelijkheid': 26, 'vrijheid': 702},\n",
       " 'Van Vliet': {'vrijheid': 8},\n",
       " 'Verdonk': {'gelijkheid': 3, 'vrijheid': 7},\n",
       " 'null': {'vrijheid': 14},\n",
       " 'voorzitter TGCS': {'vrijheid': 1}}"
      ]
     },
     "execution_count": 18,
     "metadata": {},
     "output_type": "execute_result"
    }
   ],
   "source": [
    "import csv\n",
    "import re\n",
    "\n",
    "global parties\n",
    "parties = {}\n",
    "\n",
    "# Telt momenteel in hoeveel speeches het woord gezegd wordt\n",
    "def getData(word):\n",
    "    # Get the amount of speeches the word is used in from a csv file\n",
    "    with open(word + \".csv\") as csvfile:\n",
    "        reader = csv.DictReader(csvfile)\n",
    "        for row in reader:\n",
    "            # Correct party name if necessary\n",
    "            # Some parties start with EP/, remove that\n",
    "            party = re.sub('EP/', '', row[\"party\"])\n",
    "            if party in parties:\n",
    "                if word in parties[party]:\n",
    "                    parties[party][word] += 1\n",
    "                else:\n",
    "                    # New word\n",
    "                    parties[party][word] = 1\n",
    "            else:\n",
    "                # New party\n",
    "                newWord = {word: 1}\n",
    "                parties[party] = newWord\n",
    "            \n",
    "# To do sommige woorden combinerend zoeken?\n",
    "allLeftWords = ['afbraak', 'gelijkheid', 'solidariteit', 'samen', 'collectief', 'sociaal', 'beschermen', \n",
    "                 'neoliberalisme', 'amerikaanse toestanden', 'tweedeling', 'kloof', 'ongelijkheid', 'Integreren',\n",
    "                 'integratie', 'preventie', 'kansen', 'verbinding', 'verbindingen', 'perspectief', 'eerlijk delen',\n",
    "                 'verheffen', 'nivelleren']\n",
    "allRightWords = ['vrijheid', 'potverteren', 'kleine overheid', 'fatsoen', 'belasting', 'belastingen', 'ondernemen',\n",
    "                 'ondernemend', 'ondernemers', 'keihard aanpakken', 'aanpakken', 'opsluiten', \n",
    "                 'achter slot en grendel', 'traditie', 'leitkultur', 'joods-christelijke cultuur', 'islamisering',\n",
    "                 'daders', 'veiligheid', 'slachtoffers', 'slachtoffer', 'individu', 'eigen verantwoordelijkheid',\n",
    "                 'soeverein', 'soevereiniteit']\n",
    "\n",
    "#for leftWord in allLeftWords:\n",
    "#    getData(leftWord)\n",
    "#for rightWord in allRightWords:\n",
    "#    getData(rightWord)\n",
    "getData('afbraak')\n",
    "getData('gelijkheid')\n",
    "getData('vrijheid')\n",
    "parties\n",
    "\n",
    "# Er zitten nu ook partijen met EP/*partij*, dus dit moeten we ff filteren denk"
   ]
  },
  {
   "cell_type": "code",
   "execution_count": 7,
   "metadata": {
    "collapsed": false
   },
   "outputs": [
    {
     "data": {
      "text/plain": [
       "16"
      ]
     },
     "execution_count": 7,
     "metadata": {},
     "output_type": "execute_result"
    }
   ],
   "source": [
    "len(parties)"
   ]
  },
  {
   "cell_type": "code",
   "execution_count": 19,
   "metadata": {
    "collapsed": false
   },
   "outputs": [],
   "source": [
    "import matplotlib.pyplot as plt\n",
    "import numpy as np\n",
    "\n",
    "# to do: wordt later allRightWords, allLeftWords\n",
    "words = ['afbraak', 'gelijkheid', 'vrijheid']\n",
    "allParties = list(parties.keys())\n",
    "allCounts = []\n",
    "for party in allParties:\n",
    "    counts = []\n",
    "    partyDict = parties[party]\n",
    "    for word in words:\n",
    "        if word in partyDict.keys():\n",
    "            counts.append(partyDict[word])\n",
    "        else:\n",
    "            counts.append(0)\n",
    "    allCounts.append(tuple(counts))\n",
    "    \n",
    "fig, ax = plt.subplots()\n",
    "n_groups = len(allParties)\n",
    "index = np.arange(len(words))\n",
    "bar_width = 1.0/(n_groups + 2)\n",
    "opacity = 0.8 \n",
    "\n",
    "# List of all colors: http://stackoverflow.com/questions/22408237/named-colors-in-matplotlib\n",
    "# Opletten of dit genoeg kleuren zijn, heb nu een modulo toegevoegd aan kleuren\n",
    "\n",
    "colors = ['aliceblue', 'brown', 'yellow', 'darkred', 'indigo', 'green', 'magenta', 'salmon', 'navy', 'orchid',\n",
    "         'purple', 'silver', 'coral', 'black', 'darkorange', 'darkgoldenrod']\n",
    "\n",
    "for i in range(len(allParties)):\n",
    "    plt.bar(index + bar_width*i, allCounts[i], bar_width, alpha=opacity, color=colors[i%16], label=allParties[i].decode(\"utf-8\"))\n",
    "    \n",
    "\n",
    "plt.xlabel('Woord')\n",
    "plt.ylabel('Aantal keer genoemd')\n",
    "plt.title('Aantal keer dat woorden zijn genoemd over de periode 2006-2016 per partij')\n",
    "plt.xticks(index + 0.75, words)\n",
    "plt.legend()\n",
    "plt.tight_layout()\n",
    "plt.show()"
   ]
  },
  {
   "cell_type": "code",
   "execution_count": null,
   "metadata": {
    "collapsed": false
   },
   "outputs": [],
   "source": []
  },
  {
   "cell_type": "code",
   "execution_count": null,
   "metadata": {
    "collapsed": false
   },
   "outputs": [],
   "source": []
  },
  {
   "cell_type": "code",
   "execution_count": null,
   "metadata": {
    "collapsed": false
   },
   "outputs": [],
   "source": []
  }
 ],
 "metadata": {
  "kernelspec": {
   "display_name": "Python 2",
   "language": "python",
   "name": "python2"
  },
  "language_info": {
   "codemirror_mode": {
    "name": "ipython",
    "version": 2
   },
   "file_extension": ".py",
   "mimetype": "text/x-python",
   "name": "python",
   "nbconvert_exporter": "python",
   "pygments_lexer": "ipython2",
   "version": "2.7.6"
  }
 },
 "nbformat": 4,
 "nbformat_minor": 1
}
